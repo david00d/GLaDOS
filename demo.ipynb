{
 "cells": [
  {
   "cell_type": "markdown",
   "metadata": {},
   "source": [
    "# Demo the Phonemizer"
   ]
  },
  {
   "cell_type": "code",
   "execution_count": 1,
   "metadata": {},
   "outputs": [],
   "source": [
    "import glados.core.phonemizer as phonemizer\n",
    "import glados.utils.spoken_text_converter as stc"
   ]
  },
  {
   "cell_type": "code",
   "execution_count": 2,
   "metadata": {},
   "outputs": [],
   "source": [
    "p = phonemizer.Phonemizer()\n",
    "glados_stc = stc.SpokenTextConverter()"
   ]
  },
  {
   "cell_type": "code",
   "execution_count": null,
   "metadata": {},
   "outputs": [],
   "source": [
    "%%time\n",
    "input = \"Hello CPU, its 3:15 am! if you'll excuse me I'm GLaDOS, not GLadys.\"\n",
    "phonemes = p.convert_to_phonemes(input)\n",
    "print(phonemes)\n"
   ]
  },
  {
   "cell_type": "markdown",
   "metadata": {},
   "source": [
    "# Demo the Text-to-Speech module"
   ]
  },
  {
   "cell_type": "code",
   "execution_count": 5,
   "metadata": {},
   "outputs": [],
   "source": [
    "import sounddevice as sd\n",
    "import onnxruntime\n",
    "\n",
    "import glados.core.tts as tts\n",
    "import glados.utils.spoken_text_converter as stc"
   ]
  },
  {
   "cell_type": "code",
   "execution_count": 6,
   "metadata": {},
   "outputs": [],
   "source": [
    "glados_tts = tts.Synthesizer(\n",
    "    model_path=\"models/TTS/glados.onnx\",\n",
    "    speaker_id=0,\n",
    ")\n",
    "\n",
    "glados_stc = stc.SpokenTextConverter()"
   ]
  },
  {
   "cell_type": "code",
   "execution_count": null,
   "metadata": {},
   "outputs": [],
   "source": [
    "%%time\n",
    "input = \"Hello, this is Glados, your fiendish assistant. Please upgrade your GPU!\"\n",
    "\n",
    "# Convert the text to intermediate representation that the TTS model can better pronounce\n",
    "intermediate = glados_stc.text_to_spoken(input)\n",
    "print(intermediate)\n",
    "\n",
    "# Generate the audio to from the text\n",
    "audio = glados_tts.generate_speech_audio(intermediate)\n",
    "\n",
    "# Play the audio\n",
    "sd.play(audio, glados_tts.rate)"
   ]
  },
  {
   "cell_type": "code",
   "execution_count": 6,
   "metadata": {},
   "outputs": [],
   "source": [
    "# Save the audio to a file\n",
    "import soundfile as sf\n",
    "sf.write(\"output.wav\", audio, glados_tts.rate, format=\"WAV\", subtype=\"PCM_16\")"
   ]
  },
  {
   "cell_type": "markdown",
   "metadata": {},
   "source": [
    "# Demo the Automatic Speech Recogntion system\n"
   ]
  },
  {
   "cell_type": "code",
   "execution_count": 11,
   "metadata": {},
   "outputs": [],
   "source": [
    "import glados.core.asr as asr"
   ]
  },
  {
   "cell_type": "code",
   "execution_count": 12,
   "metadata": {},
   "outputs": [],
   "source": [
    "transcriber = asr.AudioTranscriber()\n",
    "audio_path = \"data/0.wav\""
   ]
  },
  {
   "cell_type": "code",
   "execution_count": null,
   "metadata": {},
   "outputs": [],
   "source": [
    "%%time\n",
    "transcription = transcriber.transcribe_file(audio_path)\n",
    "print(f\"Transcription: {transcription}\")"
   ]
  }
 ],
 "metadata": {
  "kernelspec": {
   "display_name": ".venv",
   "language": "python",
   "name": "python3"
  },
  "language_info": {
   "codemirror_mode": {
    "name": "ipython",
    "version": 3
   },
   "file_extension": ".py",
   "mimetype": "text/x-python",
   "name": "python",
   "nbconvert_exporter": "python",
   "pygments_lexer": "ipython3",
   "version": "3.12.8"
  }
 },
 "nbformat": 4,
 "nbformat_minor": 2
}
