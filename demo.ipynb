{
 "cells": [
  {
   "cell_type": "markdown",
   "metadata": {},
   "source": [
    "# Demo the Phonemizer"
   ]
  },
  {
   "cell_type": "code",
   "execution_count": null,
   "metadata": {},
   "outputs": [],
   "source": [
    "from glados.TTS import phonemizer\n",
    "import glados.utils.spoken_text_converter as stc"
   ]
  },
  {
   "cell_type": "code",
   "execution_count": null,
   "metadata": {},
   "outputs": [],
   "source": [
    "p = phonemizer.Phonemizer()\n",
    "glados_stc = stc.SpokenTextConverter()"
   ]
  },
  {
   "cell_type": "code",
   "execution_count": null,
   "metadata": {},
   "outputs": [],
   "source": [
    "%%time\n",
    "input = \"Hello CPU, its 3:15 am! if you'll excuse me I'm GLaDOS, not GLadys.\"\n",
    "phonemes = p.convert_to_phonemes(input)\n",
    "print(phonemes)"
   ]
  },
  {
   "cell_type": "markdown",
   "metadata": {},
   "source": [
    "# Demo the Text-to-Speech module\n",
    "### GLaDOS Voice"
   ]
  },
  {
   "cell_type": "code",
   "execution_count": null,
   "metadata": {},
   "outputs": [],
   "source": [
    "import sounddevice as sd\n",
    "\n",
    "from glados.TTS import tts_glados as tts\n",
    "import glados.utils.spoken_text_converter as stc"
   ]
  },
  {
   "cell_type": "code",
   "execution_count": null,
   "metadata": {},
   "outputs": [],
   "source": [
    "glados_tts = tts.Synthesizer()\n",
    "glados_stc = stc.SpokenTextConverter()"
   ]
  },
  {
   "cell_type": "code",
   "execution_count": null,
   "metadata": {},
   "outputs": [],
   "source": [
    "%%time\n",
    "input = \"Hello, this is Glados, your fiendish assistant. Please upgrade your GPU!\"\n",
    "\n",
    "# Convert the text to intermediate representation that the TTS model can better pronounce\n",
    "intermediate = glados_stc.text_to_spoken(input)\n",
    "print(intermediate)\n",
    "\n",
    "# Generate the audio to from the text\n",
    "audio = glados_tts.generate_speech_audio(intermediate)\n",
    "\n",
    "# Play the audio\n",
    "sd.play(audio, glados_tts.sample_rate)"
   ]
  },
  {
   "cell_type": "markdown",
   "metadata": {},
   "source": [
    "### Save audio file"
   ]
  },
  {
   "cell_type": "code",
   "execution_count": null,
   "metadata": {},
   "outputs": [],
   "source": [
    "# Save the audio to a file\n",
    "import soundfile as sf\n",
    "\n",
    "sf.write(\"output.wav\", audio, glados_tts.sample_rate, format=\"WAV\", subtype=\"PCM_16\")"
   ]
  },
  {
   "cell_type": "markdown",
   "metadata": {},
   "source": [
    "### Kokoko Voice\n",
    "\n",
    "Select from:\n",
    " - Female\n",
    "   - **US** - af_alloy, af_aoede, af_bella, af_jessica, af_kore, af_nicole, af_nova, af_river, af_sarah, af_sky\n",
    "   - **British** - bf_alice, bf_emma, bf_isabella, bf_lily\n",
    " - Male\n",
    "   - **US** - am_adam, am_echo, am_eric, am_fenrir, am_liam, am_michael, am_onyx, am_puck\n",
    "   - **British** - bm_daniel, bm_fable, bm_george, bm_lewis\n"
   ]
  },
  {
   "cell_type": "code",
   "execution_count": null,
   "metadata": {},
   "outputs": [],
   "source": [
    "import sounddevice as sd\n",
    "\n",
    "from glados.TTS import tts_kokoro as ktts\n",
    "import glados.utils.spoken_text_converter as stc"
   ]
  },
  {
   "cell_type": "code",
   "execution_count": null,
   "metadata": {},
   "outputs": [],
   "source": [
    "kokoro_tts = ktts.Synthesizer(model_path=\"./models/TTS/kokoro-v1.0.fp16.onnx\")\n",
    "kokoro_stc = stc.SpokenTextConverter()"
   ]
  },
  {
   "cell_type": "code",
   "execution_count": null,
   "metadata": {},
   "outputs": [],
   "source": [
    "%%time\n",
    "\n",
    "voice = \"af_bella\"\n",
    "input = \"Hello, this is Glados, your fiendish assistant. Please upgrade your GPU!\"\n",
    "\n",
    "# Convert the text to intermediate representation that the TTS model can better pronounce\n",
    "intermediate = kokoro_stc.text_to_spoken(input)\n",
    "print(intermediate)\n",
    "\n",
    "# Generate the audio to from the text\n",
    "audio = kokoro_tts.generate_speech_audio(intermediate, voice=voice)\n",
    "\n",
    "# Play the audio\n",
    "sd.play(audio, kokoro_tts.sample_rate)"
   ]
  },
  {
   "cell_type": "markdown",
   "metadata": {},
   "source": [
    "# Demo the Automatic Speech Recogntion system\n"
   ]
  },
  {
   "cell_type": "code",
   "execution_count": null,
   "metadata": {},
   "outputs": [],
   "source": [
    "from pathlib import Path\n",
    "\n",
    "from glados.ASR import get_audio_transcriber\n",
    "\n",
    "audio_path = Path(\"data/0.wav\")"
   ]
  },
  {
   "cell_type": "markdown",
   "metadata": {},
   "source": [
    "### Test Nemo Parakeet: parakeet-tdt_ctc-110m\n",
    "Currently the Fastest good ASR model on the 🤗 Open ASR Leaderboard"
   ]
  },
  {
   "cell_type": "code",
   "execution_count": null,
   "metadata": {},
   "outputs": [],
   "source": [
    "transcriber_ctc = get_audio_transcriber(engine_type=\"ctc\")\n",
    "transcription = transcriber_ctc.transcribe_file(audio_path)\n",
    "print(f\"Transcription using CTC model: {transcription}\")"
   ]
  },
  {
   "cell_type": "code",
   "execution_count": null,
   "metadata": {},
   "outputs": [],
   "source": [
    "%%timeit\n",
    "transcription = transcriber_ctc.transcribe_file(audio_path)\n",
    "print(f\"Transcription: {transcription}\")"
   ]
  },
  {
   "cell_type": "markdown",
   "metadata": {},
   "source": [
    "### Test Nemo Parakeet: parakeet-tdt-0.6b-v2\n",
    "Currently the Best model on the 🤗 Open ASR Leaderboard"
   ]
  },
  {
   "cell_type": "code",
   "execution_count": null,
   "metadata": {},
   "outputs": [],
   "source": [
    "transcriber_tdt = get_audio_transcriber(engine_type=\"tdt\")\n",
    "transcription = transcriber_tdt.transcribe_file(audio_path)\n",
    "print(f\"Transcription using TDT model: {transcription}\")"
   ]
  },
  {
   "cell_type": "code",
   "execution_count": null,
   "metadata": {},
   "outputs": [],
   "source": [
    "%%timeit\n",
    "transcription = transcriber_tdt.transcribe_file(audio_path)\n",
    "print(f\"Transcription: {transcription}\")"
   ]
  },
  {
   "cell_type": "code",
   "execution_count": null,
   "metadata": {},
   "outputs": [],
   "source": []
  }
 ],
 "metadata": {
  "kernelspec": {
   "display_name": ".venv",
   "language": "python",
   "name": "python3"
  },
  "language_info": {
   "codemirror_mode": {
    "name": "ipython",
    "version": 3
   },
   "file_extension": ".py",
   "mimetype": "text/x-python",
   "name": "python",
   "nbconvert_exporter": "python",
   "pygments_lexer": "ipython3",
   "version": "3.12.8"
  }
 },
 "nbformat": 4,
 "nbformat_minor": 2
}
